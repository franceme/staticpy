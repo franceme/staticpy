{
    "cells": [
     {
      "cell_type": "markdown",
      "id": "5yRLUG18njJj",
      "metadata": {
       "id": "5yRLUG18njJj",
       "jp-MarkdownHeadingCollapsed": true,
       "tags": []
      },
      "source": [
       "# Prep"
      ]
     },
     {
      "cell_type": "code",
      "execution_count": null,
      "id": "kdzQBGfmuWhX",
      "metadata": {
       "colab": {
        "base_uri": "https://localhost:8080/"
       },
       "executionInfo": {
        "elapsed": 2340,
        "status": "ok",
        "timestamp": 1708460562516,
        "user": {
         "displayName": "Miles Frantz",
         "userId": "09692084129023683148"
        },
        "user_tz": 300
       },
       "id": "kdzQBGfmuWhX",
       "outputId": "162bb39b-bf59-4807-af21-488d1df59c72"
      },
      "outputs": [],
      "source": [
       "try:\n",
       "    from google.colab import drive\n",
       "    drive.mount('/content/drive')\n",
       "    from google.colab import userdata\n",
       "    ghub_key = userdata.get('ghub')\n",
       "    dbhub_key = userdata.get('dbhub')\n",
       "    import os,sys\n",
       "    from google.colab import auth\n",
       "    auth.authenticate_user()\n",
       "    \n",
       "    import gspread\n",
       "    from google.auth import default\n",
       "    creds, _ = default()\n",
       "    \n",
       "    gc = gspread.authorize(creds)\n",
       "except:pass"
      ]
     },
     {
      "cell_type": "code",
      "execution_count": null,
      "id": "4d6cf3bf-628c-442c-ae64-b8f927aa278c",
      "metadata": {
       "id": "4d6cf3bf-628c-442c-ae64-b8f927aa278c"
      },
      "outputs": [],
      "source": [
       "import os,sys,json,pwd\n",
       "from copy import deepcopy as dc"
      ]
     },
     {
      "cell_type": "code",
      "execution_count": null,
      "id": "DqwXUVdUteL4",
      "metadata": {
       "id": "DqwXUVdUteL4",
       "tags": []
      },
      "outputs": [],
      "source": [
       "os.system(f\"{sys.executable} -m pip install --upgrade mystring[all] pandas hugg[all] tqdm ephfile matplotlib pyplotlib numpy matplotlib venny4py plotly pnostic kaleido\")\n",
       "\n",
       "import plotly.graph_objects as go\n",
       "import mystring,pandas as pd,hugg\n",
       "from ephfile import ephfile\n",
       "import matplotlib.pyplot as plt\n",
       "import numpy as np\n",
       "import mystring as mys\n",
       "from ephfile import ephfile\n",
       "import matplotlib.pyplot as plt\n",
       "from venny4py.venny4py import *\n",
       "from tqdm import tqdm\n",
       "%matplotlib inline"
      ]
     },
     {
      "cell_type": "code",
      "execution_count": null,
      "id": "v0ysFI7XDyrH",
      "metadata": {
       "id": "v0ysFI7XDyrH"
      },
      "outputs": [],
      "source": [
       "def flatten_column_header(column_header):\n",
       "    if isinstance(column_header, list) or isinstance(column_header, tuple):\n",
       "        return ' '.join([str(ch) for ch in column_header]).strip()\n",
       "    return column_header"
      ]
     },
     {
      "cell_type": "code",
      "execution_count": null,
      "id": "1fb53aa6",
      "metadata": {
       "id": "v0ysFI7XDyrH"
      },
      "outputs": [],
      "source": [
       "#https://gist.github.com/ines/04b47597eb9d011ade5e77a068389521\n",
       "def diff_strings(a, b):\n",
       "    import difflib\n",
       "    try:\n",
       "        from wasabi import color\n",
       "    except:\n",
       "        os.system(\"{0} -m pip install wasabi\".format(sys.executable))\n",
       "        from wasabi import color\n",
       "    output = []\n",
       "    matcher = difflib.SequenceMatcher(None, a, b)\n",
       "    for opcode, a0, a1, b0, b1 in matcher.get_opcodes():\n",
       "        if opcode == \"equal\":\n",
       "            output.append(a[a0:a1])\n",
       "        elif opcode == \"insert\":\n",
       "            output.append(color(b[b0:b1], fg=16, bg=\"green\"))\n",
       "        elif opcode == \"delete\":\n",
       "            output.append(color(a[a0:a1], fg=16, bg=\"red\"))\n",
       "        elif opcode == \"replace\":\n",
       "            output.append(color(b[b0:b1], fg=16, bg=\"green\"))\n",
       "            output.append(color(a[a0:a1], fg=16, bg=\"red\"))\n",
       "    return \"\".join(output)\n"
      ]
     },
     {
      "cell_type": "code",
      "execution_count": null,
      "id": "a90e9040",
      "metadata": {
       "id": "v0ysFI7XDyrH"
      },
      "outputs": [],
      "source": [
       "class redirect(object):\n",
       "    def __init__(self):\n",
       "        self.stream = None\n",
       "        self.f = None\n",
       "    def __enter__(self):\n",
       "        self.stream = sys.stdout\n",
       "        self.f = open(os.devnull, 'w')\n",
       "        sys.stdout = self.f\n",
       "        return self\n",
       "    def __exit__(self,a=None,b=None,c=None):\n",
       "        sys.stdout = self.stream\n"
      ]
     },
     {
      "cell_type": "code",
      "execution_count": null,
      "id": "ZVkfGpMRta-o",
      "metadata": {
       "id": "ZVkfGpMRta-o"
      },
      "outputs": [],
      "source": [
       "path = \"/content/drive/MyDrive/Colab Notebooks\"\n",
       "path_two = \"/drive/MyDrive/Colab Notebooks\"\n",
       "\n",
       "if os.path.exists(path) or os.path.exists(path_two):\n",
       "    if os.path.exists(path):\n",
       "        os.chdir(path)\n",
       "    else:\n",
       "        os.chdir(path)\n",
       "\n",
       "    class mitosheet(object):\n",
       "        def __init__(self):\n",
       "            pass\n",
       "        def sheet(self, *args, **kwargs):\n",
       "            print(\"Not available\")\n",
       "else:\n",
       "    try:\n",
       "        import mitosheet\n",
       "    except:\n",
       "        os.system(f\"{sys.executable} -m pip install mitosheet && {sys.executable} -m mitosheet install\")\n",
       "        import mitosheet"
      ]
     },
     {
      "cell_type": "code",
      "execution_count": null,
      "id": "qth2h3PqlPgW",
      "metadata": {
       "id": "qth2h3PqlPgW"
      },
      "outputs": [],
      "source": [
       "# Load the PyCryptoBench File\n",
       "\n",
       "class py_util(object):\n",
       "    def __init__(self):\n",
       "        self.foil = \"PyCryptoBench.py\"\n",
       "    def __enter__(self):\n",
       "        import hugg;\n",
       "        return hugg.ghub(\"franceme/pnostic_rsc\", ghub_key).impor(\"providers/\"+self.foil, delete=True).app\n",
       "    def __exit__(self, a=None,b=None,c=None):\n",
       "        if os.path.exists(self.foil):\n",
       "            os.remove(self.foil)"
      ]
     },
     {
        "cell_type": "code",
        "execution_count": null,
        "id": "qth2h3PqrPgW",
        "metadata": {
         "id": "qth2h3PqrPgW"
        },
        "outputs": [],
        "source": [
         "# Load the PyCryptoBench File\n",
         "\n",
         "#with hugg.eph_mgr(hugg.ghub('franceme/pnostic_rsc', 'X'), 'runners/llm/__init__.py') as mgmt:\n",
         "#\tfieldz = {x:'Field_'+str(x) for x in mgmt.files['__init__'].total_fields}\n"
        ]
     },
     {
        "cell_type": "code",
        "execution_count": null,
        "id": "qth2h3pqrPgW",
        "metadata": {
         "id": "qth2h3pqrPgW"
        },
        "outputs": [],
        "source": [
         "# Get Current User\n",
         "\n",
         "def get_username():\n",
         "\treturn str(pwd.getpwuid(os.getuid())[0])"
        ]
     },
     {
      "cell_type": "code",
      "execution_count": null,
      "id": "qJjHHjYBD4qL",
      "metadata": {
       "id": "qJjHHjYBD4qL"
      },
      "outputs": [],
      "source": [
       "#https://sparkbyexamples.com/pandas/pandas-add-column-based-on-another-column/\n",
       "\n",
       "def percents(db):\n",
       "    for value in [\"Precision\", \"Recall\", \"Accuracy\", \"FOne\"]:\n",
       "        if value in db.columns:\n",
       "            db[value] = pd.Series([\"{0:.2f}%\".format(val * 100) for val in db[value]], index = db.index)\n",
       "    return db\n",
       "\n",
       "def rename_this(db):\n",
       "    rename_mapping = [\n",
       "        (\"Tp sum\", \"TP\"),\n",
       "        (\"Fp sum\", \"FP\"),\n",
       "        (\"Tn sum\", \"TN\"),\n",
       "        (\"Fn sum\", \"FN\"),\n",
       "        (\"FOne\", \"F1\"),\n",
       "    ]\n",
       "\n",
       "    for kol in db.columns:\n",
       "        if kol.startswith(\"BenchmarkRule count\"):\n",
       "            rename_mapping += [\n",
       "                (kol, kol.replace(\"BenchmarkRule count\", \"Rule\").strip().replace(\".0\",\"\").strip())\n",
       "            ]\n",
       "        else:\n",
       "            rename_mapping += [\n",
       "                (kol, kol.replace(\"count\",\"\").title().strip())\n",
       "            ]\n",
       "\n",
       "    for (rename_from, rename_to) in rename_mapping:\n",
       "        if rename_from in db.columns:\n",
       "            db = db.rename(columns={rename_from: rename_to})\n",
       "    return db\n",
       "\n",
       "def precision(db, tp=\"Tp sum\", fp=\"Fp sum\", tn=\"Tn sum\", fn=\"Fn sum\"):\n",
       "    #db[\"Precision\"] = db[tp]/(db[tp]+db[fp])\n",
       "    db = db.assign(Precision=lambda x:x[tp]/(x[tp]+x[fp]))\n",
       "    return db\n",
       "\n",
       "def recall(db, tp=\"Tp sum\", fp=\"Fp sum\", tn=\"Tn sum\", fn=\"Fn sum\"):\n",
       "    #db[\"Recall\"] = db[tp]/(db[tp]+db[fn])\n",
       "    db = db.assign(Recall=lambda x:x[tp]/(x[tp]+x[fn]))\n",
       "    return db\n",
       "\n",
       "def accuracy(db, tp=\"Tp sum\", fp=\"Fp sum\", tn=\"Tn sum\", fn=\"Fn sum\"):\n",
       "    #db[\"Accuracy\"] = (db[tp]+db[tn])/(db[tp]+db[fp]+db[tn]+db[fn])\n",
       "    db = db.assign(Accuracy=lambda x:(x[tp]+x[tn])/(x[tp]+x[fp]+x[tn]+x[fn]))\n",
       "    return db\n",
       "\n",
       "def f_one(db, tp=\"Tp sum\", fp=\"Fp sum\", tn=\"Tn sum\", fn=\"Fn sum\"):\n",
       "    db = precision(db)\n",
       "    db = recall(db)\n",
       "    #db[\"F1\"] = 2*((db[\"Precision\"]*db[\"Recall\"])/(db[\"Precision\"]+db[\"Recall\"]))\n",
       "    db = db.assign(FOne=lambda x:2*((x[\"Precision\"]*x[\"Recall\"])/(x[\"Precision\"]+x[\"Recall\"])))\n",
       "    return db\n",
       "\n",
       "def sums(db, tp=\"Tp sum\", fp=\"Fp sum\", tn=\"Tn sum\", fn=\"Fn sum\"):\n",
       "    #db[\"Sum\"] = db[tp]+db[fp]+db[tn]+db[fn]\n",
       "    db = db.assign(Sum=lambda x:x[tp]+x[fp]+x[tn]+x[fn])\n",
       "    return db\n",
       "\n",
       "def just_pretty(db):\n",
       "    return rename_this(percents(db))\n",
       "\n",
       "def set_all(db, tp=\"Tp sum\", fp=\"Fp sum\", tn=\"Tn sum\", fn=\"Fn sum\", use_percents=False, rename=False, pretty=False):\n",
       "    db = accuracy(db,tp,fp,tn,fn)\n",
       "    db = f_one(db,tp,fp,tn,fn)\n",
       "    db = sums(db,tp,fp,tn,fn)\n",
       "    if use_percents or pretty:\n",
       "        db = percents(db)\n",
       "    if rename or pretty:\n",
       "        db = rename_this(db)\n",
       "    return db"
      ]
     },
     {
      "cell_type": "code",
      "execution_count": null,
      "id": "_w4sWcfED4l_",
      "metadata": {
       "id": "_w4sWcfED4l_"
      },
      "outputs": [],
      "source": [
       "def re_order(df1_pivot):\n",
       "    # Reordered column Tp sum\n",
       "    if 'Tp sum' in df1_pivot.columns:\n",
       "        df1_pivot_columns = [col for col in df1_pivot.columns if col != 'Tp sum']\n",
       "        df1_pivot_columns.insert(2, 'Tp sum')\n",
       "        df1_pivot = df1_pivot[df1_pivot_columns]\n",
       "\n",
       "    if 'Fp sum' in df1_pivot.columns:\n",
       "        # Reordered column Fp sum\n",
       "        df1_pivot_columns = [col for col in df1_pivot.columns if col != 'Fp sum']\n",
       "        df1_pivot_columns.insert(3, 'Fp sum')\n",
       "        df1_pivot = df1_pivot[df1_pivot_columns]\n",
       "\n",
       "    if 'Tn sum' in df1_pivot.columns:\n",
       "        # Reordered column Tn sum\n",
       "        df1_pivot_columns = [col for col in df1_pivot.columns if col != 'Tn sum']\n",
       "        df1_pivot_columns.insert(4, 'Tn sum')\n",
       "        df1_pivot = df1_pivot[df1_pivot_columns]\n",
       "\n",
       "    if 'Fn sum' in df1_pivot.columns:\n",
       "        # Reordered column Tn sum\n",
       "        df1_pivot_columns = [col for col in df1_pivot.columns if col != 'Fn sum']\n",
       "        df1_pivot_columns.insert(5, 'Fn sum')\n",
       "        df1_pivot = df1_pivot[df1_pivot_columns]\n",
       "\n",
       "    return df1_pivot"
      ]
     },
     {
      "cell_type": "code",
      "execution_count": null,
      "id": "mlyzHt5HD4iM",
      "metadata": {
       "id": "mlyzHt5HD4iM"
      },
      "outputs": [],
      "source": [
       "def printz(db):\n",
       "    print(db.to_csv())\n",
       "    print(\"=\"*50)\n",
       "    print(db.to_markdown())"
      ]
     },
     {
      "cell_type": "code",
      "execution_count": null,
      "id": "q5Kb_4MID4Lh",
      "metadata": {
       "id": "q5Kb_4MID4Lh"
      },
      "outputs": [],
      "source": [
       "fc = lambda frame: mystring.frame(dc(frame))"
      ]
     },
     {
      "cell_type": "markdown",
      "id": "d2ab2017-6501-4b80-8ea9-91449347d391",
      "metadata": {
       "jp-MarkdownHeadingCollapsed": true,
       "tags": []
      },
      "source": [
       "# Prep Staging"
      ]
     },
     {
      "cell_type": "markdown",
      "id": "e56d0f43-5dd1-4457-935f-67704882d5d6",
      "metadata": {
       "tags": []
      },
      "source": [
       "## Imports"
      ]
     },
     {
      "cell_type": "code",
      "execution_count": null,
      "id": "b6f4d510-09c2-488c-b898-8b949b60b141",
      "metadata": {
       "tags": []
      },
      "outputs": [],
      "source": [
       "from IPython.display import clear_output\n",
       "import pandas as pd,datetime,json\n",
       "import pickle\n",
       "try:\n",
       "    from ipywidgets import *\n",
       "    import pyplotlib\n",
       "except:\n",
       "    os.system(\"{0} -m pip install --upgrade ipywidgets pyplotlib\".format(sys.executable))\n",
       "    from ipywidgets import *\n",
       "    import pyplotlib"
      ]
     },
     {
      "cell_type": "markdown",
      "id": "9b217715-a612-4004-bf37-8887f735282e",
      "metadata": {
       "tags": []
      },
      "source": [
       "## Setup"
      ]
     },
     {
      "cell_type": "code",
      "execution_count": null,
      "id": "fc991541-eba1-403d-84be-527d695554ee",
      "metadata": {
       "tags": []
      },
      "outputs": [],
      "source": [
       "cleaned_values = {}"
      ]
     },
     {
      "cell_type": "code",
      "execution_count": null,
      "id": "3a52ee21-9f5e-45ac-a3f4-df58e8d32153",
      "metadata": {
       "tags": []
      },
      "outputs": [],
      "source": [
       "def stash(dyct={}):\n",
       "    folder = lambda x:\"stashing/results_\"+str(x)\n",
       "    folder_number = 0\n",
       "\n",
       "    while os.path.exists(folder(folder_number)):\n",
       "        folder_number += 1\n",
       "\n",
       "    fldr = folder(folder_number)\n",
       "    os.system(\"mkdir -p {0}\".format(fldr))\n",
       "\n",
       "    with open(os.path.join(fldr, \"__init__.py\"), \"w+\") as core_py:\n",
       "        core_py.write(\"\"\"#!/usr/bin/env python3\n",
       "import os,sys\n",
       "local_path = lambda x:os.path.join(os.path.abspath(os.curdir), x)\n",
       "stash_date = \"{0}\"\n",
       "foils = [\n",
       "\"\"\".format(mys.now_utc_to_iso()))\n",
       "        for llm_type,llm_values in dyct.items():\n",
       "            if isinstance(llm_values, dict):\n",
       "                for key,data in llm_values.items():\n",
       "                    data_name = f\"{fldr}/{llm_type}_{key}\"\n",
       "                    if isinstance(data, pd.DataFrame):\n",
       "                        data_name += \".csv\"\n",
       "                        data.to_csv(data_name)\n",
       "                    else:\n",
       "                        data_name += \".json\"\n",
       "                        with open(data_name, \"w+\") as writer:\n",
       "                            json.dump(data, writer)\n",
       "                    core_py.write(\"\\tlocal_path('{0}'),\\n\".format(os.path.basename(data_name)))\n",
       "            elif isinstance(llm_values, pd.DataFrame):\n",
       "                data_name = f\"{fldr}/{llm_type}_frame.csv\"\n",
       "                llm_values.to_csv(data_name)\n",
       "                core_py.write(\"\\tlocal_path('{0}'),\\n\".format(os.path.basename(data_name)))\n",
       "        core_py.write(\"]\")"
      ]
     },
     {
      "cell_type": "code",
      "execution_count": null,
      "id": "5c637bad-8e7d-4540-bbd2-ad8eaf07eac8",
      "metadata": {
       "tags": []
      },
      "outputs": [],
      "source": [
       "plt.style.use([\n",
       "    pyplotlib.styles['ipynb'],\n",
       "    #pyplotlib.styles['colorsblind34'],\n",
       "    #pyplotlib.styles['science'],\n",
       "    #pyplotlib.styles['ieee'],\n",
       "])\n",
       "\n",
       "#pyplotlib.reset()"
      ]
     },
     {
      "cell_type": "markdown",
      "id": "82c26515-d453-42e6-839f-54dab8b20dc0",
      "metadata": {
       "jp-MarkdownHeadingCollapsed": true
      },
      "source": [
       "# Compiled Sets"
      ]
     },
     {
      "cell_type": "markdown",
      "id": "62962e9a-581e-47a2-9c70-482b4c0b787b",
      "metadata": {
       "jp-MarkdownHeadingCollapsed": true
      },
      "source": [
       "## Nim Experimental live set"
      ]
     },
     {
      "cell_type": "code",
      "execution_count": null,
      "id": "59dc3a67-5aef-46c1-941e-6e314c3829c1",
      "metadata": {},
      "outputs": [],
      "source": [
       "#Strings Examples: https://nim-by-example.github.io/strings/\n",
       "#stdutils : https://nim-lang.org/docs/strutils.html\n",
       "#https://docs.w3cub.com/nim/strutils"
      ]
     },
     {
      "cell_type": "code",
      "execution_count": null,
      "id": "f8bfbf9c-a718-49c7-a763-2884c2401385",
      "metadata": {},
      "outputs": [],
      "source": [
       "#curl https://nim-lang.org/choosenim/init.sh -sSf | sh\n",
       "if not os.path.exists(\"/{0}/.nimble/bin/\".format(get_username())):\n",
       "    os.system(\"curl https://nim-lang.org/choosenim/init.sh -sSf | bash -s -- -y\")\n"
      ]
     },
     {
      "cell_type": "code",
      "execution_count": null,
      "id": "f8bfbf9c-a718-49c7-a763-2884c2401385",
      "metadata": {},
      "outputs": [],
      "source": [
       "if not os.path.exists(\"/bin/nimble\") and os.path.exists(\"/{0}/.nimble/bin/\".format(get_username())):\n",
       "    for x in os.listdir(\"/{0}/.nimble/bin/\".format(get_username())):\n",
       "        cmd = f\"ln -s /{get_username()}/.nimble/bin/{os.path.basename(x)} /bin/{os.path.basename(x)}\"\n",
       "        print(cmd);os.system(cmd)\n"
      ]
     },
     {
      "cell_type": "code",
      "execution_count": null,
      "id": "f8bfbf9c-a718-49c7-a763-2884c2401385",
      "metadata": {},
      "outputs": [],
      "source": [
       "#curl https://nim-lang.org/choosenim/init.sh -sSf | sh\n",
       "#Soft link everything into /bin\n",
       "try:\n",
       "    import nimporter\n",
       "except:\n",
       "    os.system(\"{0} -m pip install --upgrade nimporter\".format(sys.executable))\n",
       "    import nimporter"
      ]
     },
     {
      "cell_type": "code",
      "execution_count": null,
      "id": "f8651586-34d0-4ea9-9cc4-3389e2a85214",
      "metadata": {},
      "outputs": [],
      "source": [
       "%%writefile sample.nim\n",
       "\n",
       "import nimpy\n",
       "\n",
       "proc add(a:int, b:int): int {.exportpy.} = \n",
       "    return a+b"
      ]
     },
     {
      "cell_type": "code",
      "execution_count": null,
      "id": "9c3be30f-d03f-4848-98f0-82306c74399e",
      "metadata": {},
      "outputs": [],
      "source": [
       "!nimporter compile"
      ]
     },
     {
      "cell_type": "code",
      "execution_count": null,
      "id": "d7302c21-e282-4735-958a-d3a6095a9e1a",
      "metadata": {},
      "outputs": [],
      "source": [
       "import sample\n",
       "sample.add(6,7)"
      ]
     },
     {
      "cell_type": "markdown",
      "id": "b6f1d740-a67f-461a-a69c-9d8770902d93",
      "metadata": {
       "jp-MarkdownHeadingCollapsed": true
      },
      "source": [
       "## Rust Compiled Sample !! It'd take too long"
      ]
     },
     {
      "cell_type": "raw",
      "id": "c0143dd1-30a0-4d2f-8de9-83014b10192f",
      "metadata": {},
      "source": [
       "https://github.com/PyO3/pyo3"
      ]
     },
     {
      "cell_type": "raw",
      "id": "a5c89d0e-e13b-42b9-b44a-db3cff154d93",
      "metadata": {},
      "source": [
       "import os,sys"
      ]
     },
     {
      "cell_type": "raw",
      "id": "6e675e7c-25c5-4175-b577-90d569135b2f",
      "metadata": {},
      "source": [
       "project_name = \"string_sum\""
      ]
     },
     {
      "cell_type": "raw",
      "id": "937af2c3-9d9f-4771-99b5-16dc3deeee54",
      "metadata": {
       "scrolled": true
      },
      "source": [
       "#curl https://nim-lang.org/choosenim/init.sh -sSf | sh\n",
       "#Soft link everything into /bin\n",
       "try:\n",
       "    import maturin\n",
       "except:\n",
       "    import os,sys\n",
       "    os.system(\"{0} -m pip install --upgrade maturin\".format(sys.executable))\n",
       "    import maturin\n",
       "\n",
       "    !curl https://sh.rustup.rs -sSf|sh -s -- -y\n",
       "\n",
       "    !~/.cargo/bin/rustup update"
      ]
     },
     {
      "cell_type": "raw",
      "id": "2367cee9-db09-4098-8e75-1a76c69b7ee4",
      "metadata": {},
      "source": [
       "\n",
       "(replace string_sum with the desired package name)\n",
       "for cmd in [\n",
       "    \"mkdir {0}\".format(project_name),\n",
       "    \"cd {0} && {1} -m maturin init -b pyo3\".format(project_name, sys.executable),\n",
       "]:\n",
       "    print(cmd);os.system(cmd) "
      ]
     },
     {
      "cell_type": "raw",
      "id": "5ab2f015-72c9-4fe0-a723-413fb750e7ca",
      "metadata": {},
      "source": [
       "with open(os.path.join(project_name, \"Cargo.toml\"), \"w+\") as writer:\n",
       "    writer.write(\"\"\"[package]\n",
       "name = \"{0}\"\n",
       "version = \"0.0.1\"\n",
       "edition = \"2021\"\n",
       "\n",
       "[lib]\n",
       "# The name of the native library. This is the name which will be used in Python to import the\n",
       "# library (i.e. `import string_sum`). If you change this, you must also change the name of the\n",
       "# `#[pymodule]` in `src/lib.rs`.\n",
       "name = \"string_sum\"\n",
       "# \"cdylib\" is necessary to produce a shared library for Python to import from.\n",
       "#\n",
       "# Downstream Rust code (including code in `bin/`, `examples/`, and `tests/`) will not be able\n",
       "# to `use string_sum;` unless the \"rlib\" or \"lib\" crate type is also included, e.g.:\n",
       "# crate-type = [\"cdylib\", \"rlib\"]\n",
       "crate-type = [\"cdylib\"]\n",
       "\n",
       "[dependencies]\n",
       "pyo3 = {{ version = \"0.20.3\", features = [\"extension-module\"] }}\"\"\".format(project_name))"
      ]
     },
     {
      "cell_type": "raw",
      "id": "cd0864c5-6b50-4ca1-95a6-785f5893fc12",
      "metadata": {},
      "source": [
       "%%writefile tmp.rs\n",
       "\n",
       "use pyo3::prelude::*;\n",
       "\n",
       "/// Formats the sum of two numbers as string.\n",
       "#[pyfunction]\n",
       "fn sum_as_string(a: usize, b: usize) -> PyResult<String> {\n",
       "    Ok((a + b).to_string())\n",
       "}\n",
       "\n",
       "/// A Python module implemented in Rust. The name of this function must match\n",
       "/// the `lib.name` setting in the `Cargo.toml`, else Python will not be able to\n",
       "/// import the module.\n",
       "#[pymodule]\n",
       "fn string_sum(m: &Bound<'_, PyModule>) -> PyResult<()> {\n",
       "    m.add_function(wrap_pyfunction!(sum_as_string, m)?)?;\n",
       "    Ok(())\n",
       "}"
      ]
     },
     {
      "cell_type": "raw",
      "id": "7f8475ba-b614-4236-955f-32e3cf45ec29",
      "metadata": {},
      "source": [
       "cmd = \"mv {0} {1}/lib.rs\".format(\"tmp.rs\", project_name)\n",
       "print(cmd);os.system(cmd)"
      ]
     },
     {
      "cell_type": "raw",
      "id": "3780b1fb-4ed6-4fb6-9a9b-cd138c3f5ab0",
      "metadata": {},
      "source": [
       "!export PATH=~/.cargo/bin:$PATH"
      ]
     },
     {
      "cell_type": "raw",
      "id": "d7036753-f682-42e5-81cc-316282f1527f",
      "metadata": {},
      "source": [
       "cmd = \"cd {0}/ && maturin develop\".format(project_name)\n",
       "print(cmd);os.system(cmd)"
      ]
     },
     {
      "cell_type": "raw",
      "id": "0d5ef4bb-7d36-4d08-8c7e-c6687c89f3e3",
      "metadata": {},
      "source": [
       "!cd string_sum/ && maturin develop"
      ]
     },
     {
      "cell_type": "raw",
      "id": "09d55bdc-4e3a-43ba-adad-24d72d13e1df",
      "metadata": {},
      "source": [
       "!~/.cargo/bin/cargo install rustc"
      ]
     },
     {
      "cell_type": "markdown",
      "id": "e753db1e-fb5d-4a29-b2ea-e98e6a92152c",
      "metadata": {},
      "source": [
       "# Rest"
      ]
     },
     {
      "cell_type": "code",
      "execution_count": null,
      "id": "59be15b0-3cb2-4e48-9d54-33d1a67fc3b1",
      "metadata": {},
      "outputs": [],
      "source": []
     },
     {
      "cell_type": "code",
      "execution_count": null,
      "id": "3b51aee5-1d2a-46e4-8e54-2793b80736d6",
      "metadata": {},
      "outputs": [],
      "source": []
     }
    ],
    "metadata": {
     "colab": {
      "collapsed_sections": [
       "5yRLUG18njJj"
      ],
      "provenance": []
     },
     "kernelspec": {
      "display_name": "Python 3 (ipykernel)",
      "language": "python",
      "name": "python3"
     },
     "language_info": {
      "codemirror_mode": {
       "name": "ipython",
       "version": 3
      },
      "file_extension": ".py",
      "mimetype": "text/x-python",
      "name": "python",
      "nbconvert_exporter": "python",
      "pygments_lexer": "ipython3",
      "version": "3.8.17"
     }
    },
    "nbformat": 4,
    "nbformat_minor": 5
   }
   